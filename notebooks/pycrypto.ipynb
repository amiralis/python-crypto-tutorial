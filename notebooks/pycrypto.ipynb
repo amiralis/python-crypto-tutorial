{
 "metadata": {
  "name": ""
 },
 "nbformat": 3,
 "nbformat_minor": 0,
 "worksheets": [
  {
   "cells": [
    {
     "cell_type": "heading",
     "level": 1,
     "metadata": {},
     "source": [
      "Pycrypto Tutorial"
     ]
    },
    {
     "cell_type": "markdown",
     "metadata": {},
     "source": [
      "There are a number of crypto libraries in Python, in this tutorial we cover pycrpto. You can download the library from [here](https://github.com/dlitz/pycrypto) and follow the install instructions. In case you have easy_install on your system, you can run the following command, ``easy_install pycrypto``"
     ]
    },
    {
     "cell_type": "markdown",
     "metadata": {},
     "source": [
      "Pycrypto components are divided into different submodules. Following is a list of these submodules (not exhaustive)\n",
      "\n",
      "* Symmetric encryption algorithms are under the *Crypto.Cipher*\n",
      "* Hashing algorithms are under *Crypto.Hash*\n",
      "* Asymmetric encryption algorithms are under the *Crypto.PublicKey* \n",
      "   "
     ]
    },
    {
     "cell_type": "heading",
     "level": 3,
     "metadata": {},
     "source": [
      "Hashing Algorithms"
     ]
    },
    {
     "cell_type": "markdown",
     "metadata": {},
     "source": [
      "We first cover how the hashing algorithms *MD5*, *SHA-1*. Other hash algorithms such as *SHA-256* have the same API."
     ]
    },
    {
     "cell_type": "heading",
     "level": 4,
     "metadata": {},
     "source": [
      "MD5"
     ]
    },
    {
     "cell_type": "code",
     "collapsed": false,
     "input": [
      "from Crypto.Hash import MD5\n",
      "md5_digest = MD5.new()\n",
      "md5_digest.update(\"First message\")\n",
      "\n",
      "print len(md5_digest.hexdigest()), md5_digest.hexdigest()\n",
      "\n",
      "md5_digest.update(\"Second message\")\n",
      "\n",
      "print len(md5_digest.hexdigest()), md5_digest.hexdigest()"
     ],
     "language": "python",
     "metadata": {},
     "outputs": [
      {
       "output_type": "stream",
       "stream": "stdout",
       "text": [
        "32 75de36495e78a3b7bad8533cc9ee498a\n",
        "32 d25ad0bc1a995b56fb2d7ada3148c268\n"
       ]
      }
     ],
     "prompt_number": 11
    },
    {
     "cell_type": "markdown",
     "metadata": {},
     "source": [
      "As you can see the size of *MD5* hash is 128 bits."
     ]
    },
    {
     "cell_type": "heading",
     "level": 4,
     "metadata": {},
     "source": [
      "SHA-1"
     ]
    },
    {
     "cell_type": "code",
     "collapsed": false,
     "input": [
      "from Crypto.Hash import SHA\n",
      "sha1_digest = SHA.new()\n",
      "sha1_digest.update(\"First message\")\n",
      "\n",
      "print len(sha1_digest.hexdigest()), sha1_digest.hexdigest()\n",
      "\n",
      "sha1_digest.update(\"Second message\")\n",
      "\n",
      "print len(sha1_digest.hexdigest()), sha1_digest.hexdigest()"
     ],
     "language": "python",
     "metadata": {},
     "outputs": [
      {
       "output_type": "stream",
       "stream": "stdout",
       "text": [
        "40 ffc124fdf1d80b265ab080b2081eb18aeca2d08a\n",
        "40 e92a040cb8c86cbae2cc01181d1389b1e678abd5\n"
       ]
      }
     ],
     "prompt_number": 13
    },
    {
     "cell_type": "markdown",
     "metadata": {},
     "source": [
      "As you can see the size of *SHA-1* hash is 160 bits."
     ]
    },
    {
     "cell_type": "code",
     "collapsed": false,
     "input": [],
     "language": "python",
     "metadata": {},
     "outputs": []
    }
   ],
   "metadata": {}
  }
 ]
}