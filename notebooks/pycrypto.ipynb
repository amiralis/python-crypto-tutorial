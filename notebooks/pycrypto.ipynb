{
 "metadata": {
  "name": ""
 },
 "nbformat": 3,
 "nbformat_minor": 0,
 "worksheets": [
  {
   "cells": [
    {
     "cell_type": "heading",
     "level": 1,
     "metadata": {},
     "source": [
      "Pycrypto Tutorial"
     ]
    },
    {
     "cell_type": "markdown",
     "metadata": {},
     "source": [
      "There are a number of crypto libraries in Python, in this tutorial we cover pycrpto. You can download the library from [here](https://github.com/dlitz/pycrypto) and follow the install instructions. In case you have easy_install on your system, you can run the following command, ``easy_install pycrypto``"
     ]
    },
    {
     "cell_type": "markdown",
     "metadata": {},
     "source": [
      "Pycrypto components are divided into different submodules. Following is a list of these submodules (not exhaustive)\n",
      "\n",
      "* Symmetric encryption algorithms are under the *Crypto.Cipher*\n",
      "* Hashing algorithms are under *Crypto.Hash*\n",
      "* Asymmetric encryption algorithms are under the *Crypto.PublicKey* \n",
      "   "
     ]
    },
    {
     "cell_type": "heading",
     "level": 2,
     "metadata": {},
     "source": [
      "Hashing Algorithms"
     ]
    },
    {
     "cell_type": "markdown",
     "metadata": {},
     "source": [
      "We first cover how the hashing algorithms *MD5*, *SHA-1*. Other hash algorithms such as *SHA-256* have the same API."
     ]
    },
    {
     "cell_type": "heading",
     "level": 3,
     "metadata": {},
     "source": [
      "MD5"
     ]
    },
    {
     "cell_type": "code",
     "collapsed": false,
     "input": [
      "from Crypto.Hash import MD5\n",
      "md5_digest = MD5.new()\n",
      "md5_digest.update(\"First message\")\n",
      "\n",
      "print len(md5_digest.hexdigest()), md5_digest.hexdigest()\n",
      "\n",
      "md5_digest.update(\"Second message\")\n",
      "\n",
      "print len(md5_digest.hexdigest()), md5_digest.hexdigest()"
     ],
     "language": "python",
     "metadata": {},
     "outputs": [
      {
       "output_type": "stream",
       "stream": "stdout",
       "text": [
        "32 75de36495e78a3b7bad8533cc9ee498a\n",
        "32 d25ad0bc1a995b56fb2d7ada3148c268\n"
       ]
      }
     ],
     "prompt_number": 11
    },
    {
     "cell_type": "markdown",
     "metadata": {},
     "source": [
      "As you can see the size of *MD5* hash is 128 bits."
     ]
    },
    {
     "cell_type": "heading",
     "level": 3,
     "metadata": {},
     "source": [
      "SHA-1"
     ]
    },
    {
     "cell_type": "code",
     "collapsed": false,
     "input": [
      "from Crypto.Hash import SHA\n",
      "sha1_digest = SHA.new()\n",
      "sha1_digest.update(\"First message\")\n",
      "\n",
      "print len(sha1_digest.hexdigest()), sha1_digest.hexdigest()\n",
      "\n",
      "sha1_digest.update(\"Second message\")\n",
      "\n",
      "print len(sha1_digest.hexdigest()), sha1_digest.hexdigest()"
     ],
     "language": "python",
     "metadata": {},
     "outputs": [
      {
       "output_type": "stream",
       "stream": "stdout",
       "text": [
        "40 ffc124fdf1d80b265ab080b2081eb18aeca2d08a\n",
        "40 e92a040cb8c86cbae2cc01181d1389b1e678abd5\n"
       ]
      }
     ],
     "prompt_number": 13
    },
    {
     "cell_type": "markdown",
     "metadata": {},
     "source": [
      "As you can see the size of *SHA-1* hash is 160 bits."
     ]
    },
    {
     "cell_type": "heading",
     "level": 2,
     "metadata": {},
     "source": [
      "Symmetric Encryption"
     ]
    },
    {
     "cell_type": "markdown",
     "metadata": {},
     "source": [
      "In this section we cover how to use symmetric encryption algorithms. For more info on encryption please refer to *Lecture 3*."
     ]
    },
    {
     "cell_type": "heading",
     "level": 3,
     "metadata": {},
     "source": [
      "AES"
     ]
    },
    {
     "cell_type": "markdown",
     "metadata": {},
     "source": [
      "I will only cover *AES* in this tutorial, since it's the currently recommended symmetric encryption algorithm. As we have covered in Lecture 3, it has the fixed block size of 128 bits (16 bytes). The keys can be 16 bytes (*AES-128*), 24 bytes (*AES-192*), or 32 bytes (*AES-256*). You can use different mode such as ECB, CBC, CFB, etc.\n",
      "\n",
      "**NOTE** : Refere to lecture notes on whey ECB is not recommended."
     ]
    },
    {
     "cell_type": "heading",
     "level": 4,
     "metadata": {},
     "source": [
      "Encryption"
     ]
    },
    {
     "cell_type": "code",
     "collapsed": false,
     "input": [
      "from Crypto.Cipher import AES\n",
      "# to generate IV and key\n",
      "from Crypto import Random\n",
      "\n",
      "# key size of 16, 128 bits\n",
      "key = Random.new().read(16)\n",
      "iv = Random.new().read(AES.block_size)\n",
      "\n",
      "plain_text = 'ABCDEFGHIJKLMNOP'\n",
      "\n",
      "encryptor = AES.new(key, AES.MODE_CBC, iv)\n",
      "ciphertext = encryptor.encrypt(plain_text)\n",
      "\n",
      "\n",
      "# the len should be 16\n",
      "print len(ciphertext), ciphertext.encode('hex')"
     ],
     "language": "python",
     "metadata": {},
     "outputs": [
      {
       "output_type": "stream",
       "stream": "stdout",
       "text": [
        "16 0bcb26ac2dbe627456d392da88a1bc57\n"
       ]
      }
     ],
     "prompt_number": 54
    },
    {
     "cell_type": "heading",
     "level": 4,
     "metadata": {},
     "source": [
      "Decryption"
     ]
    },
    {
     "cell_type": "code",
     "collapsed": false,
     "input": [
      "# the key and iv are values from the encryption phase\n",
      "\n",
      "decryptor = AES.new(key, AES.MODE_CBC, iv)\n",
      "plain = decryptor.decrypt(ciphertext)\n",
      "\n",
      "print plain"
     ],
     "language": "python",
     "metadata": {},
     "outputs": [
      {
       "output_type": "stream",
       "stream": "stdout",
       "text": [
        "ABCDEFGHIJKLMNOP\n"
       ]
      }
     ],
     "prompt_number": 55
    },
    {
     "cell_type": "heading",
     "level": 2,
     "metadata": {},
     "source": [
      "Asymmetrci Encryption"
     ]
    },
    {
     "cell_type": "code",
     "collapsed": false,
     "input": [],
     "language": "python",
     "metadata": {},
     "outputs": []
    }
   ],
   "metadata": {}
  }
 ]
}